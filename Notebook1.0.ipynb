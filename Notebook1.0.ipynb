{
    "cells": [
        {
            "cell_type": "markdown",
            "metadata": {},
            "source": "# IBM Exercise"
        },
        {
            "cell_type": "code",
            "execution_count": 1,
            "metadata": {},
            "outputs": [
                {
                    "data": {
                        "text/html": "<div>\n<style scoped>\n    .dataframe tbody tr th:only-of-type {\n        vertical-align: middle;\n    }\n\n    .dataframe tbody tr th {\n        vertical-align: top;\n    }\n\n    .dataframe thead th {\n        text-align: right;\n    }\n</style>\n<table border=\"1\" class=\"dataframe\">\n  <thead>\n    <tr style=\"text-align: right;\">\n      <th></th>\n      <th>Segment</th>\n      <th>Commodity</th>\n      <th>Customer</th>\n      <th>SQL</th>\n      <th>Other</th>\n      <th>Customer Rank Value</th>\n      <th>SQL Rank Value</th>\n      <th>Other Rank Value</th>\n      <th>Total Value</th>\n      <th>Total Entries</th>\n      <th>% Value</th>\n      <th>Relative Scoring Value (out of 10)</th>\n    </tr>\n  </thead>\n  <tbody>\n    <tr>\n      <th>0</th>\n      <td>Services</td>\n      <td>Crude Oil</td>\n      <td>3</td>\n      <td>4</td>\n      <td>42</td>\n      <td>5</td>\n      <td>1</td>\n      <td>0</td>\n      <td>19</td>\n      <td>49</td>\n      <td>39%</td>\n      <td>3.9</td>\n    </tr>\n    <tr>\n      <th>1</th>\n      <td>Services</td>\n      <td>Natural Gas</td>\n      <td>3</td>\n      <td>4</td>\n      <td>75</td>\n      <td>5</td>\n      <td>1</td>\n      <td>0</td>\n      <td>19</td>\n      <td>82</td>\n      <td>23%</td>\n      <td>2.3</td>\n    </tr>\n    <tr>\n      <th>2</th>\n      <td>Services</td>\n      <td>LNG</td>\n      <td>0</td>\n      <td>2</td>\n      <td>13</td>\n      <td>5</td>\n      <td>1</td>\n      <td>0</td>\n      <td>2</td>\n      <td>15</td>\n      <td>13%</td>\n      <td>1.3</td>\n    </tr>\n    <tr>\n      <th>3</th>\n      <td>Services</td>\n      <td>NGL</td>\n      <td>0</td>\n      <td>3</td>\n      <td>15</td>\n      <td>5</td>\n      <td>1</td>\n      <td>0</td>\n      <td>3</td>\n      <td>18</td>\n      <td>17%</td>\n      <td>1.7</td>\n    </tr>\n    <tr>\n      <th>4</th>\n      <td>Services</td>\n      <td>Refined Products</td>\n      <td>2</td>\n      <td>2</td>\n      <td>19</td>\n      <td>5</td>\n      <td>1</td>\n      <td>0</td>\n      <td>12</td>\n      <td>23</td>\n      <td>52%</td>\n      <td>5.2</td>\n    </tr>\n  </tbody>\n</table>\n</div>",
                        "text/plain": "    Segment         Commodity  Customer  SQL  Other  Customer Rank Value  \\\n0  Services         Crude Oil         3    4     42                    5   \n1  Services       Natural Gas         3    4     75                    5   \n2  Services               LNG         0    2     13                    5   \n3  Services               NGL         0    3     15                    5   \n4  Services  Refined Products         2    2     19                    5   \n\n   SQL Rank Value  Other Rank Value  Total Value  Total Entries % Value  \\\n0               1                 0           19             49     39%   \n1               1                 0           19             82     23%   \n2               1                 0            2             15     13%   \n3               1                 0            3             18     17%   \n4               1                 0           12             23     52%   \n\n   Relative Scoring Value (out of 10)  \n0                                 3.9  \n1                                 2.3  \n2                                 1.3  \n3                                 1.7  \n4                                 5.2  "
                    },
                    "execution_count": 1,
                    "metadata": {},
                    "output_type": "execute_result"
                }
            ],
            "source": "# The code was removed by Watson Studio for sharing."
        },
        {
            "cell_type": "code",
            "execution_count": null,
            "metadata": {},
            "outputs": [],
            "source": ""
        }
    ],
    "metadata": {
        "kernelspec": {
            "display_name": "Python 3.6",
            "language": "python",
            "name": "python3"
        },
        "language_info": {
            "codemirror_mode": {
                "name": "ipython",
                "version": 3
            },
            "file_extension": ".py",
            "mimetype": "text/x-python",
            "name": "python",
            "nbconvert_exporter": "python",
            "pygments_lexer": "ipython3",
            "version": "3.6.9"
        }
    },
    "nbformat": 4,
    "nbformat_minor": 1
}